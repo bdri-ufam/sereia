{
 "cells": [
  {
   "cell_type": "code",
   "execution_count": 20,
   "id": "d31e5553-f67a-41a6-a30e-411a9fea335a",
   "metadata": {},
   "outputs": [],
   "source": [
    "import json\n",
    "from pprint import pprint as pp\n",
    "\n",
    "import pymongo"
   ]
  },
  {
   "cell_type": "code",
   "execution_count": 2,
   "id": "f0ed82da-9cfc-4d76-bc44-b77f8ab49869",
   "metadata": {},
   "outputs": [],
   "source": [
    "database_credentials = {\n",
    "    'host': 'localhost',\n",
    "    'port': 27017,\n",
    "    'username': 'root',\n",
    "    'password': 'root@server',\n",
    "}\n",
    "\n",
    "client = pymongo.MongoClient(\n",
    "    **database_credentials,\n",
    ")"
   ]
  },
  {
   "cell_type": "code",
   "execution_count": 43,
   "id": "c4e96a2c-709f-4639-9152-56d8b554332e",
   "metadata": {},
   "outputs": [],
   "source": [
    "database_ref = client['dblp']"
   ]
  },
  {
   "cell_type": "code",
   "execution_count": 44,
   "id": "ca6c8155-1807-4630-bb40-cc9d289387d5",
   "metadata": {},
   "outputs": [],
   "source": [
    "indexable_attributes = [\n",
    "    {\n",
    "        \"table\": \"dblp\",\n",
    "        \"attributes\": [\n",
    "            \"author\",\n",
    "            \"booktitle\",\n",
    "            \"title\",\n",
    "            \"year\",\n",
    "            \"type\",\n",
    "            \"publisher\",\n",
    "            \"editor\"\n",
    "        ]\n",
    "    }\n",
    "]"
   ]
  },
  {
   "cell_type": "code",
   "execution_count": 45,
   "id": "0c874db2-3896-490e-94dc-7da6a96e497a",
   "metadata": {},
   "outputs": [],
   "source": [
    "attributes_per_table = {}\n",
    "\n",
    "for indexable_table_attributes in indexable_attributes:\n",
    "    table_name = indexable_table_attributes['table']\n",
    "    attributes = indexable_table_attributes['attributes']\n",
    "    attributes_per_table[table_name] = attributes\n",
    "    # print('Table name: {}'.format(table_name))\n",
    "    # print('Attributes: {}'.format(attributes))\n",
    "    # print()"
   ]
  },
  {
   "cell_type": "code",
   "execution_count": 46,
   "id": "1fda8ea0-04f3-4ac5-b701-58ad8b1057ba",
   "metadata": {},
   "outputs": [
    {
     "name": "stdout",
     "output_type": "stream",
     "text": [
      "Extracting data from dblp collection\n"
     ]
    }
   ],
   "source": [
    "for collection in database_ref.list_collections():\n",
    "    collection_name = collection['name']\n",
    "    collection_data = []\n",
    "    \n",
    "    # if collection_name != 'tip':\n",
    "    #     continue\n",
    "    \n",
    "    print(f'Extracting data from {collection_name} collection')\n",
    "\n",
    "    for document in database_ref[collection_name].find(\n",
    "        projection=attributes_per_table[collection_name],\n",
    "        batch_size=10_000,\n",
    "    ):\n",
    "        del document['_id']\n",
    "        collection_data.append(document)\n",
    "        \n",
    "    with open(f'{collection_name}.json', 'w') as f:\n",
    "        json.dump(collection_data, f)"
   ]
  }
 ],
 "metadata": {
  "kernelspec": {
   "display_name": "Python 3 (ipykernel)",
   "language": "python",
   "name": "python3"
  },
  "language_info": {
   "codemirror_mode": {
    "name": "ipython",
    "version": 3
   },
   "file_extension": ".py",
   "mimetype": "text/x-python",
   "name": "python",
   "nbconvert_exporter": "python",
   "pygments_lexer": "ipython3",
   "version": "3.10.7"
  }
 },
 "nbformat": 4,
 "nbformat_minor": 5
}
