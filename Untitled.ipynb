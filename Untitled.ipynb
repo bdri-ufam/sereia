{
 "cells": [
  {
   "cell_type": "code",
   "execution_count": 1,
   "id": "ecf89673-49ac-4b05-9117-1115513af25b",
   "metadata": {},
   "outputs": [],
   "source": [
    "import pymongo\n",
    "from timeit import default_timer as timer"
   ]
  },
  {
   "cell_type": "code",
   "execution_count": 2,
   "id": "674b4b4d-c701-4304-b088-2e63ec2d9e0b",
   "metadata": {},
   "outputs": [],
   "source": [
    "database_credentials = {\n",
    "    'username': 'root',\n",
    "    'password': 'root@server',\n",
    "    'host': 'localhost',\n",
    "    'port': 27017,\n",
    "}"
   ]
  },
  {
   "cell_type": "code",
   "execution_count": 3,
   "id": "af24599a-c7dc-46af-bb32-df585e996411",
   "metadata": {},
   "outputs": [],
   "source": [
    "client = pymongo.MongoClient(**database_credentials)"
   ]
  },
  {
   "cell_type": "code",
   "execution_count": 4,
   "id": "97040b43-fd0e-4b02-a69c-98317b752cab",
   "metadata": {},
   "outputs": [],
   "source": [
    "database = client['yelp_expanded']"
   ]
  },
  {
   "cell_type": "code",
   "execution_count": 5,
   "id": "b403a478-aa14-4f8e-b727-436466ad2b73",
   "metadata": {},
   "outputs": [
    {
     "data": {
      "text/plain": [
       "Database(MongoClient(host=['localhost:27017'], document_class=dict, tz_aware=False, connect=True), 'yelp_expanded')"
      ]
     },
     "execution_count": 5,
     "metadata": {},
     "output_type": "execute_result"
    }
   ],
   "source": [
    "database"
   ]
  },
  {
   "cell_type": "code",
   "execution_count": 6,
   "id": "2e0b229c-8099-41f0-95d9-d29d58bdbe1f",
   "metadata": {},
   "outputs": [],
   "source": [
    "from json import load\n",
    "from pprint import pprint as pp"
   ]
  },
  {
   "cell_type": "markdown",
   "id": "4491aefe-7ca5-4a2c-8aef-0dfde0dc6b79",
   "metadata": {},
   "source": [
    "# Yelp Queries"
   ]
  },
  {
   "cell_type": "code",
   "execution_count": 7,
   "id": "86232d85-f8ba-4095-8d99-58fa1e395bcc",
   "metadata": {},
   "outputs": [],
   "source": [
    "manual_user_queries = None\n",
    "with open('manual_user_queries.json', 'r') as f:\n",
    "    manual_user_queries = load(f)"
   ]
  },
  {
   "cell_type": "code",
   "execution_count": 8,
   "id": "7d26c4a9-f1ec-4224-aa34-5dcffd7fbff9",
   "metadata": {},
   "outputs": [
    {
     "name": "stdout",
     "output_type": "stream",
     "text": [
      "Executing query #1\n",
      "[{'$match': {'name': 'Bricola'}},\n",
      " {'$lookup': {'as': 'user_reviews',\n",
      "              'from': 'review',\n",
      "              'let': {'user_id': '$user_id'},\n",
      "              'pipeline': [{'$match': {'$expr': {'$and': [{'$eq': ['$stars',\n",
      "                                                                   5]},\n",
      "                                                          {'$eq': ['$$user_id',\n",
      "                                                                   '$user_id']}]}}}]}},\n",
      " {'$lookup': {'as': 'user_business',\n",
      "              'foreignField': 'business_id',\n",
      "              'from': 'business',\n",
      "              'localField': 'user_reviews.business_id'}},\n",
      " {'$unwind': '$user_business'},\n",
      " {'$project': {'_id': 0, 'user_business': 1}}]\n"
     ]
    }
   ],
   "source": [
    "results = []\n",
    "results_time = []\n",
    "\n",
    "query_data = manual_user_queries[0]\n",
    "query_number = query_data['query_number']\n",
    "query = query_data['query']\n",
    "print(f'Executing query #{query_number}')\n",
    "pp(query)\n",
    "start = timer()\n",
    "results.append(database['user'].aggregate(query))\n",
    "end = timer()\n",
    "results_time.append(end - start)"
   ]
  },
  {
   "cell_type": "code",
   "execution_count": 9,
   "id": "673e200c-6803-4292-9440-1e515f83a8f1",
   "metadata": {},
   "outputs": [
    {
     "name": "stdout",
     "output_type": "stream",
     "text": [
      "Executing query #2\n",
      "[{'$match': {'name': 'Analucia'}},\n",
      " {'$lookup': {'as': 'user_reviews',\n",
      "              'from': 'review',\n",
      "              'let': {'user_id': '$user_id'},\n",
      "              'pipeline': [{'$match': {'$expr': {'$and': [{'$eq': ['$$user_id',\n",
      "                                                                   '$user_id']}]}}}]}},\n",
      " {'$lookup': {'as': 'user_business',\n",
      "              'foreignField': 'business_id',\n",
      "              'from': 'business',\n",
      "              'localField': 'user_reviews.business_id'}},\n",
      " {'$unwind': '$user_business'},\n",
      " {'$project': {'_id': 0, 'user_business': 1}}]\n"
     ]
    }
   ],
   "source": [
    "query_data = manual_user_queries[1]\n",
    "query_number = query_data['query_number']\n",
    "query = query_data['query']\n",
    "print(f'Executing query #{query_number}')\n",
    "pp(query)\n",
    "start = timer()\n",
    "results.append(database['user'].aggregate(query))\n",
    "end = timer()\n",
    "results_time.append(end - start)"
   ]
  },
  {
   "cell_type": "code",
   "execution_count": 10,
   "id": "55414b49-0ff4-4927-8d48-94ccb956da63",
   "metadata": {},
   "outputs": [
    {
     "name": "stdout",
     "output_type": "stream",
     "text": [
      "Executing query #3\n",
      "[{'$match': {'name': 'Michelle'}},\n",
      " {'$lookup': {'as': 'user_reviews',\n",
      "              'from': 'review',\n",
      "              'let': {'user_id': '$user_id'},\n",
      "              'pipeline': [{'$match': {'$expr': {'$and': [{'$eq': ['$$user_id',\n",
      "                                                                   '$user_id']}]}}}]}},\n",
      " {'$lookup': {'as': 'user_business',\n",
      "              'foreignField': 'business_id',\n",
      "              'from': 'business',\n",
      "              'localField': 'user_reviews.business_id'}},\n",
      " {'$match': {'$expr': {'$regexMatch': {'input': 'user_business.categories',\n",
      "                                       'regex': '/.*(I|i)talian.*/'}}}},\n",
      " {'$unwind': '$user_business'},\n",
      " {'$project': {'_id': 0, 'user_business': 1}}]\n"
     ]
    }
   ],
   "source": [
    "query_data = manual_user_queries[2]\n",
    "query_number = query_data['query_number']\n",
    "query = query_data['query']\n",
    "print(f'Executing query #{query_number}')\n",
    "pp(query)\n",
    "start = timer()\n",
    "results.append(database['user'].aggregate(query))\n",
    "end = timer()\n",
    "results_time.append(end - start)"
   ]
  },
  {
   "cell_type": "code",
   "execution_count": 11,
   "id": "932c0ec7-ceb6-415b-aa1a-fdddfacb116b",
   "metadata": {},
   "outputs": [
    {
     "name": "stdout",
     "output_type": "stream",
     "text": [
      "Executing query #6\n",
      "[{'$match': {'name': 'Michelle'}},\n",
      " {'$lookup': {'as': 'user_reviews',\n",
      "              'from': 'review',\n",
      "              'let': {'user_id': '$user_id'},\n",
      "              'pipeline': [{'$match': {'$expr': {'$and': [{'$eq': ['$$user_id',\n",
      "                                                                   '$user_id']}]}}}]}},\n",
      " {'$lookup': {'as': 'user_business',\n",
      "              'foreignField': 'business_id',\n",
      "              'from': 'business',\n",
      "              'localField': 'user_reviews.business_id'}},\n",
      " {'$unwind': '$user_business'},\n",
      " {'$match': {'user_business.categories': {'$regex': '/.*(R|r)estaurant.*/'},\n",
      "             'user_business.city': 'Lynn'}},\n",
      " {'$project': {'_id': 0, 'user_business': 1}}]\n"
     ]
    }
   ],
   "source": [
    "query_data = manual_user_queries[3]\n",
    "query_number = query_data['query_number']\n",
    "query = query_data['query']\n",
    "print(f'Executing query #{query_number}')\n",
    "pp(query)\n",
    "start = timer()\n",
    "results.append(database['user'].aggregate(query))\n",
    "end = timer()\n",
    "results_time.append(end - start)"
   ]
  },
  {
   "cell_type": "code",
   "execution_count": 12,
   "id": "038704cc-6a30-4886-b2b4-08f390fe8e4f",
   "metadata": {},
   "outputs": [
    {
     "name": "stdout",
     "output_type": "stream",
     "text": [
      "Executing query #8\n",
      "[{'$match': {'city': 'Portland'}},\n",
      " {'$lookup': {'as': 'portland_tips',\n",
      "              'foreignField': 'business_id',\n",
      "              'from': 'tip',\n",
      "              'localField': 'business_id'}},\n",
      " {'$unwind': '$portland_tips'},\n",
      " {'$project': {'_id': 0, 'portland_tips': 1}}]\n"
     ]
    }
   ],
   "source": [
    "query_data = manual_user_queries[4]\n",
    "query_number = query_data['query_number']\n",
    "query = query_data['query']\n",
    "print(f'Executing query #{query_number}')\n",
    "pp(query)\n",
    "start = timer()\n",
    "results.append(database['business'].aggregate(query))\n",
    "end = timer()\n",
    "results_time.append(end - start)"
   ]
  },
  {
   "cell_type": "code",
   "execution_count": 13,
   "id": "9a4c589a-4609-470f-b5e0-ff522dbafda7",
   "metadata": {
    "tags": []
   },
   "outputs": [
    {
     "name": "stdout",
     "output_type": "stream",
     "text": [
      "Executing query #9\n",
      "[{'$match': {'name': 'Subway', 'state': 'TX'}},\n",
      " {'$lookup': {'as': 'texas_subway_tips',\n",
      "              'foreignField': 'business_id',\n",
      "              'from': 'tip',\n",
      "              'localField': 'business_id'}},\n",
      " {'$unwind': '$texas_subway_tips'},\n",
      " {'$project': {'_id': 0, 'texas_subway_tips': 1}}]\n"
     ]
    }
   ],
   "source": [
    "query_data = manual_user_queries[5]\n",
    "query_number = query_data['query_number']\n",
    "query = query_data['query']\n",
    "print(f'Executing query #{query_number}')\n",
    "pp(query)\n",
    "start = timer()\n",
    "results.append(database['user'].aggregate(query))\n",
    "end = timer()\n",
    "results_time.append(end - start)"
   ]
  },
  {
   "cell_type": "code",
   "execution_count": 14,
   "id": "6f478d5b-ebef-4aa1-8523-edfee038ebe4",
   "metadata": {},
   "outputs": [
    {
     "name": "stdout",
     "output_type": "stream",
     "text": [
      "Time results per query:\n",
      "[1.637997078000808,\n",
      " 1.6211232890000247,\n",
      " 1.6549106569991636,\n",
      " 6.205596501999935,\n",
      " 0.08452260200010642,\n",
      " 1.6223271809994912]\n"
     ]
    }
   ],
   "source": [
    "print('Time results per query:')\n",
    "pp(results_time)"
   ]
  },
  {
   "cell_type": "markdown",
   "id": "e143671c-08d4-4ac6-a150-d79e69b483ee",
   "metadata": {},
   "source": [
    "# IMDb Queries"
   ]
  },
  {
   "cell_type": "code",
   "execution_count": 15,
   "id": "1523f7a5-04aa-4c10-9b66-dbc2f9fb3698",
   "metadata": {},
   "outputs": [],
   "source": [
    "manual_user_queries_imdb = None\n",
    "with open('manual_user_queries_imdb.json', 'r') as f:\n",
    "    manual_user_queries_imdb = load(f)"
   ]
  },
  {
   "cell_type": "code",
   "execution_count": 16,
   "id": "512e775f-f22b-4eb3-b329-6f164bf3ebac",
   "metadata": {},
   "outputs": [
    {
     "name": "stdout",
     "output_type": "stream",
     "text": [
      "Executing query #1\n",
      "[{'$match': {'cast': {'$elemMatch': {'name': 'Denzel Washington'}}}},\n",
      " {'$lookup': {'as': 'movies_denzel',\n",
      "              'foreignField': 'id',\n",
      "              'from': 'movies',\n",
      "              'localField': 'id'}},\n",
      " {'$unwind': '$movies_denzel'},\n",
      " {'$project': {'_id': 0, 'movies_denzel': 1}}]\n"
     ]
    }
   ],
   "source": [
    "results = []\n",
    "results_time = []\n",
    "database = client['imdb']\n",
    "query_data = manual_user_queries_imdb[0]\n",
    "query_number = query_data['query_number']\n",
    "query = query_data['query']\n",
    "print(f'Executing query #{query_number}')\n",
    "pp(query)\n",
    "start = timer()\n",
    "results.append(database['credits'].aggregate(query))\n",
    "end = timer()\n",
    "results_time.append(end - start)"
   ]
  },
  {
   "cell_type": "code",
   "execution_count": 17,
   "id": "32e04def-08e0-44ad-aec8-29afaf597381",
   "metadata": {},
   "outputs": [
    {
     "name": "stdout",
     "output_type": "stream",
     "text": [
      "Executing query #1\n",
      "[{'$match': {'cast': {'$elemMatch': {'name': 'Will Smith'}}}},\n",
      " {'$lookup': {'as': 'movies_will',\n",
      "              'foreignField': 'id',\n",
      "              'from': 'movies',\n",
      "              'localField': 'id'}},\n",
      " {'$unwind': '$movies_will'},\n",
      " {'$project': {'_id': 0, 'movies_will': 1}}]\n"
     ]
    }
   ],
   "source": [
    "query_data = manual_user_queries_imdb[1]\n",
    "query_number = query_data['query_number']\n",
    "query = query_data['query']\n",
    "print(f'Executing query #{query_number}')\n",
    "pp(query)\n",
    "start = timer()\n",
    "results.append(database['credits'].aggregate(query))\n",
    "end = timer()\n",
    "results_time.append(end - start)"
   ]
  },
  {
   "cell_type": "code",
   "execution_count": 18,
   "id": "ed223b4b-f9dc-47a6-bd0b-a6fc86c0eb37",
   "metadata": {},
   "outputs": [
    {
     "name": "stdout",
     "output_type": "stream",
     "text": [
      "Executing query #1\n",
      "[{'$match': {'title': {'$regex': '/.*Indiana Jones.*/'}}},\n",
      " {'$project': {'_id': 0, 'title': 1}}]\n"
     ]
    }
   ],
   "source": [
    "query_data = manual_user_queries_imdb[2]\n",
    "query_number = query_data['query_number']\n",
    "query = query_data['query']\n",
    "print(f'Executing query #{query_number}')\n",
    "pp(query)\n",
    "start = timer()\n",
    "results.append(database['movies'].aggregate(query))\n",
    "end = timer()\n",
    "results_time.append(end - start)"
   ]
  },
  {
   "cell_type": "code",
   "execution_count": 19,
   "id": "bbf08498-60bd-4992-ad47-0130306fad87",
   "metadata": {},
   "outputs": [
    {
     "name": "stdout",
     "output_type": "stream",
     "text": [
      "Executing query #1\n",
      "[{'$match': {'cast': {'$elemMatch': {'name': 'Will Smith'}}}},\n",
      " {'$lookup': {'as': 'movies_lecter',\n",
      "              'foreignField': 'id',\n",
      "              'from': 'movies',\n",
      "              'localField': 'id'}},\n",
      " {'$unwind': '$movies_lecter'},\n",
      " {'$project': {'_id': 0, 'movies_lecter.title': 1}}]\n"
     ]
    }
   ],
   "source": [
    "query_data = manual_user_queries_imdb[3]\n",
    "query_number = query_data['query_number']\n",
    "query = query_data['query']\n",
    "print(f'Executing query #{query_number}')\n",
    "pp(query)\n",
    "start = timer()\n",
    "results.append(database['credits'].aggregate(query))\n",
    "end = timer()\n",
    "results_time.append(end - start)"
   ]
  },
  {
   "cell_type": "code",
   "execution_count": 20,
   "id": "e3e60ea5-ce2d-4e87-a86c-1e5b7e5c6c72",
   "metadata": {},
   "outputs": [
    {
     "name": "stdout",
     "output_type": "stream",
     "text": [
      "Executing query #1\n",
      "[{'$match': {'title': {'$regex': '/(The Terminator)|(Terminator .*)/'}}},\n",
      " {'$project': {'_id': 0, 'title': 1}}]\n"
     ]
    }
   ],
   "source": [
    "query_data = manual_user_queries_imdb[4]\n",
    "query_number = query_data['query_number']\n",
    "query = query_data['query']\n",
    "print(f'Executing query #{query_number}')\n",
    "pp(query)\n",
    "start = timer()\n",
    "results.append(database['movies'].aggregate(query))\n",
    "end = timer()\n",
    "results_time.append(end - start)"
   ]
  },
  {
   "cell_type": "code",
   "execution_count": 21,
   "id": "9c5146c8-d235-40c8-97b6-799073535180",
   "metadata": {},
   "outputs": [
    {
     "name": "stdout",
     "output_type": "stream",
     "text": [
      "Executing query #1\n",
      "[{'$match': {'crew': {'$elemMatch': {'name': 'George Lucas'}}}},\n",
      " {'$lookup': {'as': 'movies_crew',\n",
      "              'foreignField': 'id',\n",
      "              'from': 'movies',\n",
      "              'localField': 'id'}},\n",
      " {'$unwind': '$movies_crew'},\n",
      " {'$project': {'_id': 0, 'movies_crew': 1}}]\n"
     ]
    }
   ],
   "source": [
    "query_data = manual_user_queries_imdb[5]\n",
    "query_number = query_data['query_number']\n",
    "query = query_data['query']\n",
    "print(f'Executing query #{query_number}')\n",
    "pp(query)\n",
    "start = timer()\n",
    "results.append(database['credits'].aggregate(query))\n",
    "end = timer()\n",
    "results_time.append(end - start)"
   ]
  },
  {
   "cell_type": "code",
   "execution_count": 22,
   "id": "26bdf204-9c71-48f9-9543-6be5861e21e7",
   "metadata": {},
   "outputs": [
    {
     "name": "stdout",
     "output_type": "stream",
     "text": [
      "Executing query #1\n",
      "[{'$match': {'cast': {'$elemMatch': {'name': 'Keanu Reeves'}},\n",
      "             'crew': {'$elemMatch': {'name': {'$regex': '/.*Wachowski.*/'}}}}},\n",
      " {'$lookup': {'as': 'movies_crew',\n",
      "              'foreignField': 'id',\n",
      "              'from': 'movies',\n",
      "              'localField': 'id'}},\n",
      " {'$unwind': '$movies_crew'},\n",
      " {'$project': {'_id': 0, 'movies_crew': 1}}]\n"
     ]
    }
   ],
   "source": [
    "query_data = manual_user_queries_imdb[6]\n",
    "query_number = query_data['query_number']\n",
    "query = query_data['query']\n",
    "print(f'Executing query #{query_number}')\n",
    "pp(query)\n",
    "start = timer()\n",
    "results.append(database['credits'].aggregate(query))\n",
    "end = timer()\n",
    "results_time.append(end - start)"
   ]
  },
  {
   "cell_type": "code",
   "execution_count": 23,
   "id": "44d0709e-79a6-433d-9753-012eef27c8a8",
   "metadata": {},
   "outputs": [
    {
     "name": "stdout",
     "output_type": "stream",
     "text": [
      "Time results per query:\n",
      "[0.1998043579997102,\n",
      " 0.10473100699982751,\n",
      " 0.04350104199966154,\n",
      " 0.09430621200044698,\n",
      " 0.04965417899984459,\n",
      " 0.0801355040002818,\n",
      " 0.08742735099986021]\n"
     ]
    }
   ],
   "source": [
    "print('Time results per query:')\n",
    "pp(results_time)"
   ]
  }
 ],
 "metadata": {
  "kernelspec": {
   "display_name": "Python 3 (ipykernel)",
   "language": "python",
   "name": "python3"
  },
  "language_info": {
   "codemirror_mode": {
    "name": "ipython",
    "version": 3
   },
   "file_extension": ".py",
   "mimetype": "text/x-python",
   "name": "python",
   "nbconvert_exporter": "python",
   "pygments_lexer": "ipython3",
   "version": "3.11.3"
  }
 },
 "nbformat": 4,
 "nbformat_minor": 5
}
