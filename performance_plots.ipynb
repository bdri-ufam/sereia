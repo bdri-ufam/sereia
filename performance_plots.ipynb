{
 "cells": [
  {
   "cell_type": "code",
   "execution_count": 4,
   "id": "70592462-c3d2-46a3-a358-5718d31312e7",
   "metadata": {},
   "outputs": [],
   "source": [
    "# !pip install matplotlib"
   ]
  },
  {
   "cell_type": "code",
   "execution_count": 1,
   "id": "296ccabd-b63b-42e5-b426-962ba629a1ad",
   "metadata": {},
   "outputs": [],
   "source": [
    "from json import load as json_load\n",
    "from os import listdir\n",
    "from os.path import isfile, join\n",
    "from pprint import pprint as pp\n",
    "\n",
    "from matplotlib import pyplot as plt\n",
    "import numpy as np"
   ]
  },
  {
   "cell_type": "code",
   "execution_count": 2,
   "id": "46de1a31-4302-4651-b98c-910dd233b583",
   "metadata": {},
   "outputs": [],
   "source": [
    "FILEPATH = 'results/'"
   ]
  },
  {
   "cell_type": "code",
   "execution_count": 3,
   "id": "549a3852-ad8f-49a4-9c67-71fa12fd0721",
   "metadata": {},
   "outputs": [],
   "source": [
    "onlyfiles = [(f, join(FILEPATH, f)) for f in listdir(FILEPATH) if isfile(join(FILEPATH, f))]"
   ]
  },
  {
   "cell_type": "code",
   "execution_count": 4,
   "id": "183195cc-47b4-476b-bd72-11bfc392c3c0",
   "metadata": {},
   "outputs": [],
   "source": [
    "datasets_names = []\n",
    "for dataset, dataset_filepath in onlyfiles:\n",
    "    datasets_names.append(\n",
    "        dataset.split('.')[0],\n",
    "    )"
   ]
  },
  {
   "cell_type": "code",
   "execution_count": 5,
   "id": "7eb1f1e7-e7a6-4c85-8694-8da8649b1c52",
   "metadata": {},
   "outputs": [
    {
     "data": {
      "text/plain": [
       "['nba',\n",
       " 'yelp_expanded',\n",
       " 'yelp_expanded-Assisted',\n",
       " 'twitter',\n",
       " 'imdb-assisted-single-query',\n",
       " 'dblp-Assisted',\n",
       " 'imdb',\n",
       " 'twitter-Assisted',\n",
       " 'dblp',\n",
       " 'nba-Assisted',\n",
       " 'imdb-Assisted']"
      ]
     },
     "execution_count": 5,
     "metadata": {},
     "output_type": "execute_result"
    }
   ],
   "source": [
    "datasets_names"
   ]
  },
  {
   "cell_type": "markdown",
   "id": "df852781-412a-4359-a495-af5ec91c051e",
   "metadata": {},
   "source": [
    "## Generation Time experiment"
   ]
  },
  {
   "cell_type": "code",
   "execution_count": 6,
   "id": "d190fdd9-b290-4406-a581-e264b8fd1828",
   "metadata": {},
   "outputs": [
    {
     "name": "stdout",
     "output_type": "stream",
     "text": [
      "Current dataset: nba\n",
      "Average KM time => 69.56484\n",
      "Average QM time => 2.33981\n",
      "Average CN time => 440.27833\n",
      "Total time => 512.18298\n",
      "\n",
      "Current dataset: yelp_expanded\n",
      "Average KM time => 105.43051\n",
      "Average QM time => 152.57577\n",
      "Average CN time => 1240.97869\n",
      "Total time => 1498.98497\n",
      "\n",
      "Current dataset: yelp_expanded-Assisted\n",
      "Average KM time => 81.74646\n",
      "Average QM time => 150.64157\n",
      "Average CN time => 942.22557\n",
      "Total time => 1174.61360\n",
      "\n",
      "Current dataset: twitter\n",
      "Average KM time => 71.65018\n",
      "Average QM time => 0.56688\n",
      "Average CN time => 5206.57663\n",
      "Total time => 5278.79369\n",
      "\n",
      "Current dataset: imdb-assisted-single-query\n",
      "Average KM time => 2.75661\n",
      "Average QM time => 1.42770\n",
      "Average CN time => 507.38899\n",
      "Total time => 511.57330\n",
      "\n",
      "Current dataset: dblp-Assisted\n",
      "Average KM time => 2.00395\n",
      "Average QM time => 2.86659\n",
      "Average CN time => 2422.05202\n",
      "Total time => 2426.92256\n",
      "\n",
      "Current dataset: imdb\n",
      "Average KM time => 26.37085\n",
      "Average QM time => 21.07380\n",
      "Average CN time => 228.94441\n",
      "Total time => 276.38906\n",
      "\n",
      "Current dataset: twitter-Assisted\n",
      "Average KM time => 73.11525\n",
      "Average QM time => 0.57159\n",
      "Average CN time => 4556.23619\n",
      "Total time => 4629.92303\n",
      "\n",
      "Current dataset: dblp\n",
      "Average KM time => 69.23890\n",
      "Average QM time => 3.10570\n",
      "Average CN time => 2708.89160\n",
      "Total time => 2781.23621\n",
      "\n",
      "Current dataset: nba-Assisted\n",
      "Average KM time => 67.09466\n",
      "Average QM time => 0.99768\n",
      "Average CN time => 457.90410\n",
      "Total time => 525.99643\n",
      "\n",
      "Current dataset: imdb-Assisted\n",
      "Average KM time => 25.96080\n",
      "Average QM time => 21.89569\n",
      "Average CN time => 624.72584\n",
      "Total time => 672.58233\n",
      "\n"
     ]
    }
   ],
   "source": [
    "phase_times_per_dataset = {}\n",
    "phase_times = {\n",
    "    'km': [],\n",
    "    'qm': [],\n",
    "    'cn': [],\n",
    "    'cn_bottom': [],\n",
    "}\n",
    "phase_times_labels = []\n",
    "\n",
    "for dataset, dataset_filepath in onlyfiles:\n",
    "    with open(dataset_filepath) as f:\n",
    "        current_dataset_content = json_load(f)\n",
    "    \n",
    "    current_dataset_name = dataset.split('.')[0]\n",
    "    \n",
    "    if current_dataset_name == 'yelp':\n",
    "        continue\n",
    "    \n",
    "    if 'compound' in current_dataset_name:\n",
    "        continue\n",
    "    \n",
    "    print(f'Current dataset: {current_dataset_name}')\n",
    "\n",
    "    skm_times = []\n",
    "    vkm_times = []\n",
    "    km_times = []\n",
    "    qm_times = []\n",
    "    cn_times = []\n",
    "    total_times = []\n",
    "\n",
    "    for keyword_query_result in current_dataset_content['results']:\n",
    "        phases_time = keyword_query_result['elapsed_time']\n",
    "        skm_gen_time = phases_time['skm']\n",
    "        vkm_gen_time = phases_time['vkm']\n",
    "        km_gen_time = phases_time['km']\n",
    "        qm_gen_time = phases_time['qm']\n",
    "        cn_gen_time = phases_time['cn']\n",
    "        total_gen_time = phases_time['total']\n",
    "\n",
    "        skm_times.append(skm_gen_time)\n",
    "        vkm_times.append(vkm_gen_time)\n",
    "        km_times.append(km_gen_time)\n",
    "        qm_times.append(qm_gen_time)\n",
    "        cn_times.append(cn_gen_time)\n",
    "        total_times.append(total_gen_time)\n",
    "    \n",
    "    average_km_time = sum(km_times)/len(km_times)\n",
    "    average_qm_time = sum(qm_times)/len(qm_times)\n",
    "    average_cn_time = sum(cn_times)/len(cn_times)\n",
    "\n",
    "    # if current_dataset_name == 'dblp':\n",
    "    #     print(km_times)\n",
    "    #     print(skm_times)\n",
    "    #     print(vkm_times)\n",
    "    \n",
    "    phase_times['km'].append(average_km_time)\n",
    "    phase_times['qm'].append(average_qm_time)\n",
    "    phase_times['cn'].append(average_cn_time)\n",
    "    phase_times['cn_bottom'].append(average_km_time + average_qm_time)\n",
    "    phase_times_labels.append(current_dataset_name)\n",
    "    \n",
    "    phase_times_per_dataset[current_dataset_name] = [\n",
    "        average_km_time,\n",
    "        average_qm_time,\n",
    "        average_cn_time,\n",
    "    ]\n",
    "\n",
    "    print('Average KM time => {:.5f}'.format(average_km_time * 1000))\n",
    "    print('Average QM time => {:.5f}'.format(average_qm_time * 1000))\n",
    "    print('Average CN time => {:.5f}'.format(average_cn_time * 1000))\n",
    "    print('Total time => {:.5f}\\n'.format((average_km_time + average_qm_time + average_cn_time) * 1000))"
   ]
  },
  {
   "cell_type": "code",
   "execution_count": 7,
   "id": "9073e6b3-4b86-4223-aa7c-45c332db21a0",
   "metadata": {},
   "outputs": [],
   "source": [
    "# phase_times"
   ]
  },
  {
   "cell_type": "code",
   "execution_count": 8,
   "id": "adc6b466-e304-435e-a711-d53ae59c4c6a",
   "metadata": {},
   "outputs": [
    {
     "name": "stdout",
     "output_type": "stream",
     "text": [
      "['nba', 'yelp_expanded', 'yelp_expanded-Assisted', 'twitter', 'imdb-assisted-single-query', 'dblp-Assisted', 'imdb', 'twitter-Assisted', 'dblp', 'nba-Assisted', 'imdb-Assisted']\n"
     ]
    },
    {
     "data": {
      "image/png": "[encoded data removed]",
      "text/plain": [
       "<Figure size 1000x400 with 1 Axes>"
      ]
     },
     "metadata": {},
     "output_type": "display_data"
    }
   ],
   "source": [
    "fig, ax = plt.subplots()\n",
    "\n",
    "labels = []\n",
    "for label in phase_times_labels:\n",
    "    labels.append(\n",
    "        label.upper().replace('_COMPOUND', '-CP').replace('_EXPANDED', '').replace('-Assisted', '-AR')\n",
    "    )\n",
    "\n",
    "print(phase_times_labels)\n",
    "\n",
    "ax.bar(\n",
    "    labels,\n",
    "    phase_times['km'],\n",
    "    label='KM',\n",
    ")\n",
    "\n",
    "ax.bar(\n",
    "    labels,\n",
    "    phase_times['qm'],\n",
    "    bottom=phase_times['km'],\n",
    "    label='QM'\n",
    ")\n",
    "\n",
    "ax.bar(\n",
    "    labels,\n",
    "    phase_times['cn'],\n",
    "    bottom=phase_times['cn_bottom'],\n",
    "    label='CJN'\n",
    ")\n",
    "\n",
    "fig.set_size_inches(10, 4)\n",
    "ax.set_xticks(range(len(phase_times_labels)), labels, rotation=15, fontsize=14)\n",
    "ax.set_yticks([tick for tick in np.arange(0.1, 0.8, 0.1)], [f'{tick:.1f}' for tick in np.arange(0.1, 0.8, 0.1)], fontsize=14)\n",
    "\n",
    "# plt.yscale('log')\n",
    "plt.legend(\n",
    "    fontsize=14,\n",
    ")\n",
    "fig.tight_layout()\n",
    "plt.savefig('images/generation_time_results.pdf')\n",
    "plt.show()\n"
   ]
  },
  {
   "cell_type": "markdown",
   "id": "ad84e355-0fc1-4cca-b19d-bdf764143bfc",
   "metadata": {},
   "source": [
    "## MRR and P@K metrics"
   ]
  },
  {
   "cell_type": "code",
   "execution_count": 9,
   "id": "4494f10b-9604-486a-9f1a-a5d9ea53570a",
   "metadata": {},
   "outputs": [],
   "source": [
    "labels = ['mrr']\n",
    "\n",
    "datasets_metrics_qm_data = {}\n",
    "datasets_metrics_cn_data = {}\n",
    "\n",
    "for i in range(1, 10):\n",
    "    labels.append(\n",
    "        'p@' + str(i),\n",
    "    )\n",
    "\n",
    "for dataset, dataset_filepath in onlyfiles:\n",
    "    with open(dataset_filepath) as f:\n",
    "        current_dataset_content = json_load(f)\n",
    "\n",
    "    current_dataset_name = dataset.split('.')[0]\n",
    "    datasets_metrics_qm_data[current_dataset_name] = []\n",
    "    evaluation_results = current_dataset_content['evaluation']\n",
    "\n",
    "    query_match_results = evaluation_results['query_matches']\n",
    "    for key in query_match_results:\n",
    "        if key in labels:\n",
    "            datasets_metrics_qm_data[current_dataset_name].append(\n",
    "                query_match_results[key],\n",
    "            )"
   ]
  },
  {
   "cell_type": "code",
   "execution_count": 10,
   "id": "58ee8faf-1b46-4101-a1df-0011ad738e61",
   "metadata": {},
   "outputs": [],
   "source": [
    "# pp(datasets_metrics_qm_data)"
   ]
  },
  {
   "cell_type": "code",
   "execution_count": 11,
   "id": "7b32dd13-0282-44f6-82bd-d9cc62f29a32",
   "metadata": {
    "tags": []
   },
   "outputs": [
    {
     "data": {
      "image/png": "[encoded data removed]",
      "text/plain": [
       "<Figure size 1000x400 with 1 Axes>"
      ]
     },
     "metadata": {},
     "output_type": "display_data"
    }
   ],
   "source": [
    "fig, ax = plt.subplots()\n",
    "x = np.arange(0, len(labels) * 3, 3)\n",
    "width = 0.35\n",
    "\n",
    "labels_upper = [label.upper() for label in labels]\n",
    "\n",
    "yelp = ax.bar(x - (2*width), datasets_metrics_qm_data['yelp_expanded'], width, label='YELP')\n",
    "# nba_compound = ax.bar(x - (2*width), datasets_metrics_qm_data['nba_compound'], width, label='NBA-CP')\n",
    "nba = ax.bar(x - width, datasets_metrics_qm_data['nba'], width, label='NBA')\n",
    "imdb = ax.bar(x, datasets_metrics_qm_data['imdb'], width, label='IMDb')\n",
    "# imdb_compound = ax.bar(x  + width, datasets_metrics_qm_data['imdb_compound'], width, label='IMDb-CP')\n",
    "dblp = ax.bar(x  + (1*width), datasets_metrics_qm_data['dblp'], width, label='DBLP')\n",
    "twitter = ax.bar(x  + (2*width), datasets_metrics_qm_data['twitter'], width, label='TWITTER')\n",
    "\n",
    "ax.set_xticks(x, labels_upper, fontsize=14)\n",
    "ax.set_yticks([0, 0.2, 0.4, 0.6, 0.8, 1.0], [0, 0.2, 0.4, 0.6, 0.8, 1.0], fontsize=14)\n",
    "ax.set_ylim([0, 1])\n",
    "fig.set_size_inches(10, 4)\n",
    "\n",
    "ax.legend(\n",
    "    bbox_to_anchor=(1, 1.03),\n",
    "    fontsize=12,\n",
    ")\n",
    "\n",
    "fig.tight_layout()\n",
    "plt.savefig('images/qm_evaluation.pdf')\n",
    "plt.show()"
   ]
  },
  {
   "cell_type": "code",
   "execution_count": 12,
   "id": "17913f01-f3a1-464e-bbcd-065d979f494c",
   "metadata": {},
   "outputs": [
    {
     "data": {
      "text/plain": [
       "0.6690157047253822"
      ]
     },
     "execution_count": 12,
     "metadata": {},
     "output_type": "execute_result"
    }
   ],
   "source": [
    "(datasets_metrics_qm_data['yelp_expanded'][0] + datasets_metrics_qm_data['imdb'][0] + datasets_metrics_qm_data['dblp'][0] + datasets_metrics_qm_data['nba'][0] + datasets_metrics_qm_data['twitter'][0])/5"
   ]
  },
  {
   "cell_type": "code",
   "execution_count": 13,
   "id": "92265769-aebb-4492-a30e-31a64d55e377",
   "metadata": {},
   "outputs": [
    {
     "data": {
      "text/plain": [
       "0.9160714285714286"
      ]
     },
     "execution_count": 13,
     "metadata": {},
     "output_type": "execute_result"
    }
   ],
   "source": [
    "(datasets_metrics_qm_data['yelp_expanded'][0] + datasets_metrics_qm_data['nba'][0])/2"
   ]
  },
  {
   "cell_type": "code",
   "execution_count": 14,
   "id": "aa8f6674-e233-44f7-8cc5-5252e29cb863",
   "metadata": {},
   "outputs": [],
   "source": [
    "# (datasets_metrics_qm_data['yelp_expanded'][0] + datasets_metrics_qm_data['imdb_compound'][0] + datasets_metrics_qm_data['dblp'][0] + datasets_metrics_qm_data['nba_compound'][0] + datasets_metrics_qm_data['twitter'][0])/5"
   ]
  },
  {
   "cell_type": "code",
   "execution_count": 15,
   "id": "7e55125a-df8c-48cd-929a-a6a90aced991",
   "metadata": {},
   "outputs": [],
   "source": [
    "labels = ['mrr']\n",
    "\n",
    "datasets_metrics_cn_data = {}\n",
    "\n",
    "for i in range(1, 7):\n",
    "    labels.append(\n",
    "        'p@' + str(i),\n",
    "    )\n",
    "\n",
    "for dataset, dataset_filepath in onlyfiles:\n",
    "    with open(dataset_filepath) as f:\n",
    "        current_dataset_content = json_load(f)\n",
    "\n",
    "    current_dataset_name = dataset.split('.')[0]\n",
    "    datasets_metrics_cn_data[current_dataset_name] = []\n",
    "    evaluation_results = current_dataset_content['evaluation']\n",
    "\n",
    "    candidate_networks_results = evaluation_results['candidate_networks']\n",
    "    for key in candidate_networks_results:\n",
    "        if key in labels:\n",
    "            datasets_metrics_cn_data[current_dataset_name].append(\n",
    "                candidate_networks_results[key],\n",
    "            )"
   ]
  },
  {
   "cell_type": "code",
   "execution_count": 16,
   "id": "38ae70e9-c245-4522-8ae8-df41ef53a19e",
   "metadata": {},
   "outputs": [
    {
     "name": "stdout",
     "output_type": "stream",
     "text": [
      "{'dblp': [1.0, 1.0, 1.0, 1.0, 1.0, 1.0, 1.0],\n",
      " 'dblp-Assisted': [1.0, 1.0, 1.0, 1.0, 1.0, 1.0, 1.0],\n",
      " 'imdb': [0.4211538461538461,\n",
      "          0.11538461538461539,\n",
      "          0.5384615384615384,\n",
      "          0.7692307692307693,\n",
      "          0.8076923076923077,\n",
      "          0.8461538461538461,\n",
      "          0.8461538461538461],\n",
      " 'imdb-Assisted': [0.4332267091882476,\n",
      "                   0.11538461538461539,\n",
      "                   0.5384615384615384,\n",
      "                   0.7692307692307693,\n",
      "                   0.8076923076923077,\n",
      "                   0.8461538461538461,\n",
      "                   0.8461538461538461],\n",
      " 'imdb-assisted-single-query': [0.3333333333333333,\n",
      "                                0.0,\n",
      "                                0.0,\n",
      "                                1.0,\n",
      "                                1.0,\n",
      "                                1.0,\n",
      "                                1.0],\n",
      " 'nba': [0.9333333333333333, 0.9, 0.9, 1.0, 1.0, 1.0, 1.0],\n",
      " 'nba-Assisted': [0.9333333333333333, 0.9, 0.9, 1.0, 1.0, 1.0, 1.0],\n",
      " 'twitter': [0.4636363636363637,\n",
      "             0.2727272727272727,\n",
      "             0.36363636363636365,\n",
      "             0.36363636363636365,\n",
      "             0.7272727272727273,\n",
      "             1.0,\n",
      "             1.0],\n",
      " 'twitter-Assisted': [0.4636363636363637,\n",
      "                      0.2727272727272727,\n",
      "                      0.36363636363636365,\n",
      "                      0.36363636363636365,\n",
      "                      0.7272727272727273,\n",
      "                      1.0,\n",
      "                      1.0],\n",
      " 'yelp_expanded': [0.8988095238095238,\n",
      "                   0.8214285714285714,\n",
      "                   0.9285714285714286,\n",
      "                   1.0,\n",
      "                   1.0,\n",
      "                   1.0,\n",
      "                   1.0],\n",
      " 'yelp_expanded-Assisted': [0.8988095238095238,\n",
      "                            0.8214285714285714,\n",
      "                            0.9285714285714286,\n",
      "                            1.0,\n",
      "                            1.0,\n",
      "                            1.0,\n",
      "                            1.0]}\n"
     ]
    }
   ],
   "source": [
    "pp(datasets_metrics_cn_data)"
   ]
  },
  {
   "cell_type": "code",
   "execution_count": 17,
   "id": "0d34c10b-121b-42ce-834f-6bc2e3cae01d",
   "metadata": {},
   "outputs": [
    {
     "name": "stdout",
     "output_type": "stream",
     "text": [
      "[ 0  3  6  9 12 15 18]\n",
      "['MRR', 'P@1', 'P@2', 'P@3', 'P@4', 'P@5', 'P@6']\n"
     ]
    },
    {
     "data": {
      "image/png": "[encoded data removed]",
      "text/plain": [
       "<Figure size 1000x400 with 1 Axes>"
      ]
     },
     "metadata": {},
     "output_type": "display_data"
    }
   ],
   "source": [
    "fig, ax = plt.subplots()\n",
    "x = np.arange(0, len(labels) * 3, 3)\n",
    "width = 0.25\n",
    "\n",
    "print(x)\n",
    "\n",
    "labels_upper = [label.upper() for label in labels]\n",
    "print(labels_upper)\n",
    "\n",
    "yelp = ax.bar(x - (2*width), datasets_metrics_cn_data['yelp_expanded'], width, label='YELP')\n",
    "# nba_compound = ax.bar(x - (2*width), datasets_metrics_cn_data['nba_compound'], width, label='NBA-CP')\n",
    "nba = ax.bar(x - width, datasets_metrics_cn_data['nba'], width, label='NBA')\n",
    "imdb = ax.bar(x, datasets_metrics_cn_data['imdb'], width, label='IMDb')\n",
    "# imdb_compound = ax.bar(x  + width, datasets_metrics_cn_data['imdb_compound'], width, label='IMDb-CP')\n",
    "dblp = ax.bar(x  + (1*width), datasets_metrics_cn_data['dblp'], width, label='DBLP')\n",
    "twitter = ax.bar(x  + (2*width), datasets_metrics_cn_data['twitter'], width, label='TWITTER')\n",
    "\n",
    "ax.set_xticks(x, labels_upper, fontsize=14)\n",
    "ax.set_yticks([0, 0.2, 0.4, 0.6, 0.8, 1.0], [0, 0.2, 0.4, 0.6, 0.8, 1.0], fontsize=14)\n",
    "ax.set_ylim([0, 1])\n",
    "fig.set_size_inches(10, 4)\n",
    "\n",
    "ax.legend(\n",
    "    bbox_to_anchor=(1, 1.03),\n",
    "    fontsize=12,\n",
    ")\n",
    "\n",
    "fig.tight_layout()\n",
    "plt.savefig('images/cn_evaluation.pdf')\n",
    "plt.show()"
   ]
  },
  {
   "cell_type": "code",
   "execution_count": 18,
   "id": "9e40efe2-74b6-4b79-977c-d08b0c011b3f",
   "metadata": {},
   "outputs": [
    {
     "data": {
      "text/plain": [
       "0.7433866133866134"
      ]
     },
     "execution_count": 18,
     "metadata": {},
     "output_type": "execute_result"
    }
   ],
   "source": [
    "(datasets_metrics_cn_data['yelp_expanded'][0] + datasets_metrics_cn_data['imdb'][0] + datasets_metrics_cn_data['dblp'][0] + datasets_metrics_cn_data['nba'][0] + datasets_metrics_cn_data['twitter'][0])/5"
   ]
  },
  {
   "cell_type": "code",
   "execution_count": 19,
   "id": "42ebec00-6205-42c2-a581-ad3e6535e59f",
   "metadata": {},
   "outputs": [],
   "source": [
    "# datasets_metrics_cn_data"
   ]
  },
  {
   "cell_type": "code",
   "execution_count": 20,
   "id": "1756d581-03bf-4210-8905-cea50e94eb50",
   "metadata": {},
   "outputs": [],
   "source": [
    "# (datasets_metrics_cn_data['yelp_expanded'][0] + datasets_metrics_cn_data['imdb_compound'][0] + datasets_metrics_cn_data['dblp'][0] + datasets_metrics_cn_data['nba_compound'][0] + datasets_metrics_cn_data['twitter'][0])/5"
   ]
  },
  {
   "cell_type": "code",
   "execution_count": 21,
   "id": "1da3f3e1-42f3-40a3-ab9d-1a552bb2adf5",
   "metadata": {},
   "outputs": [],
   "source": [
    "onlyfiles = [\n",
    " ('nba.json', 'results/nba.json'),\n",
    " ('nba-Assisted.json', 'results/nba-Assisted.json'),\n",
    " ('yelp_expanded.json', 'results/yelp_expanded.json'),\n",
    " ('yelp_expanded-Assisted.json', 'results/yelp_expanded-Assisted.json'),\n",
    " ('twitter.json', 'results/twitter.json'),\n",
    " ('twitter-Assisted.json', 'results/twitter-Assisted.json'),\n",
    " ('dblp.json', 'results/dblp.json'),\n",
    " ('dblp-Assisted.json', 'results/dblp-Assisted.json'),\n",
    " ('imdb.json', 'results/imdb.json'),\n",
    " ('imdb-Assisted.json', 'results/imdb-Assisted.json')\n",
    "]"
   ]
  },
  {
   "cell_type": "markdown",
   "id": "83faaba9-40f2-4c7e-9575-9242df710cc1",
   "metadata": {},
   "source": [
    "## Getting data for the number of correctly captured queries (using the CJN ranking)"
   ]
  },
  {
   "cell_type": "code",
   "execution_count": 22,
   "id": "65eb522f-b9b6-469e-988b-920aa45af1dd",
   "metadata": {},
   "outputs": [],
   "source": [
    "relevant_query_positions_per_dataset = {}\n",
    "\n",
    "for dataset, dataset_filepath in onlyfiles:\n",
    "    with open(dataset_filepath) as f:\n",
    "        current_dataset_content = json_load(f)\n",
    "\n",
    "    current_dataset_name = dataset.split('.')[0]\n",
    "    datasets_metrics_qm_data[current_dataset_name] = []\n",
    "    evaluation_results = current_dataset_content['evaluation']\n",
    "\n",
    "    relevant_query_positions_per_dataset[dataset] = evaluation_results['candidate_networks']['relevant_positions']"
   ]
  },
  {
   "cell_type": "code",
   "execution_count": 23,
   "id": "86f87324-0975-4456-9dc1-4be13b6bf3c4",
   "metadata": {},
   "outputs": [
    {
     "data": {
      "text/plain": [
       "{'nba.json': [1, 1, 1, 1, 1, 1, 1, 1, 1, 3],\n",
       " 'nba-Assisted.json': [1, 1, 1, 1, 1, 1, 1, 1, 1, 3],\n",
       " 'yelp_expanded.json': [2,\n",
       "  1,\n",
       "  1,\n",
       "  1,\n",
       "  1,\n",
       "  1,\n",
       "  2,\n",
       "  1,\n",
       "  1,\n",
       "  1,\n",
       "  1,\n",
       "  1,\n",
       "  1,\n",
       "  3,\n",
       "  3,\n",
       "  1,\n",
       "  1,\n",
       "  1,\n",
       "  1,\n",
       "  1,\n",
       "  1,\n",
       "  1,\n",
       "  1,\n",
       "  2,\n",
       "  1,\n",
       "  1,\n",
       "  1,\n",
       "  1],\n",
       " 'yelp_expanded-Assisted.json': [2,\n",
       "  1,\n",
       "  1,\n",
       "  1,\n",
       "  1,\n",
       "  1,\n",
       "  2,\n",
       "  1,\n",
       "  1,\n",
       "  1,\n",
       "  1,\n",
       "  1,\n",
       "  1,\n",
       "  3,\n",
       "  3,\n",
       "  1,\n",
       "  1,\n",
       "  1,\n",
       "  1,\n",
       "  1,\n",
       "  1,\n",
       "  1,\n",
       "  1,\n",
       "  2,\n",
       "  1,\n",
       "  1,\n",
       "  1,\n",
       "  1],\n",
       " 'twitter.json': [1, 4, 1, 1, 5, 4, 4, 5, 4, 5, 2],\n",
       " 'twitter-Assisted.json': [1, 4, 1, 1, 5, 4, 4, 5, 4, 5, 2],\n",
       " 'dblp.json': [1, 1, 1, 1, 1, 1, 1, 1, 1, 1],\n",
       " 'dblp-Assisted.json': [1, 1, 1, 1, 1, 1, 1, 1, 1, 1],\n",
       " 'imdb.json': [1,\n",
       "  3,\n",
       "  3,\n",
       "  2,\n",
       "  2,\n",
       "  2,\n",
       "  2,\n",
       "  2,\n",
       "  2,\n",
       "  3,\n",
       "  -1,\n",
       "  2,\n",
       "  3,\n",
       "  1,\n",
       "  1,\n",
       "  -1,\n",
       "  2,\n",
       "  2,\n",
       "  5,\n",
       "  2,\n",
       "  4,\n",
       "  2,\n",
       "  -1,\n",
       "  -1,\n",
       "  3,\n",
       "  3],\n",
       " 'imdb-Assisted.json': [1,\n",
       "  3,\n",
       "  3,\n",
       "  2,\n",
       "  2,\n",
       "  2,\n",
       "  2,\n",
       "  2,\n",
       "  2,\n",
       "  3,\n",
       "  26,\n",
       "  2,\n",
       "  3,\n",
       "  1,\n",
       "  1,\n",
       "  24,\n",
       "  2,\n",
       "  2,\n",
       "  5,\n",
       "  2,\n",
       "  4,\n",
       "  2,\n",
       "  7,\n",
       "  11,\n",
       "  3,\n",
       "  3]}"
      ]
     },
     "execution_count": 23,
     "metadata": {},
     "output_type": "execute_result"
    }
   ],
   "source": [
    "relevant_query_positions_per_dataset"
   ]
  },
  {
   "cell_type": "code",
   "execution_count": 24,
   "id": "042f6fef-e3ca-45c7-94cf-af8471d515fa",
   "metadata": {},
   "outputs": [
    {
     "name": "stdout",
     "output_type": "stream",
     "text": [
      "nba.json\n",
      "Queryset length: 10\n",
      "nba-Assisted.json\n",
      "Queryset length: 10\n",
      "yelp_expanded.json\n",
      "Queryset length: 28\n",
      "yelp_expanded-Assisted.json\n",
      "Queryset length: 28\n",
      "twitter.json\n",
      "Queryset length: 11\n",
      "twitter-Assisted.json\n",
      "Queryset length: 11\n",
      "dblp.json\n",
      "Queryset length: 10\n",
      "dblp-Assisted.json\n",
      "Queryset length: 10\n",
      "imdb.json\n",
      "Queryset length: 26\n",
      "imdb-Assisted.json\n",
      "Queryset length: 26\n"
     ]
    }
   ],
   "source": [
    "correctly_captured_queries_per_ranking_approach = {}\n",
    "\n",
    "for dataset, positions in relevant_query_positions_per_dataset.items():\n",
    "    correct_queries_count = 0\n",
    "\n",
    "    print(dataset)\n",
    "    print('Queryset length: {}'.format(len(positions)))\n",
    "    \n",
    "    if 'Assisted' in dataset:\n",
    "        for position in positions:\n",
    "            if position <= 5 and position > 0:\n",
    "                correct_queries_count += 1\n",
    "    else:\n",
    "        for position in positions:\n",
    "            if position == 1:\n",
    "                correct_queries_count += 1\n",
    "\n",
    "    correctly_captured_queries_per_ranking_approach[dataset] = correct_queries_count"
   ]
  },
  {
   "cell_type": "code",
   "execution_count": 25,
   "id": "3b7d985e-bc34-463c-a2f6-f2e4f284db16",
   "metadata": {},
   "outputs": [
    {
     "data": {
      "text/plain": [
       "{'nba.json': 9,\n",
       " 'nba-Assisted.json': 10,\n",
       " 'yelp_expanded.json': 23,\n",
       " 'yelp_expanded-Assisted.json': 28,\n",
       " 'twitter.json': 3,\n",
       " 'twitter-Assisted.json': 11,\n",
       " 'dblp.json': 10,\n",
       " 'dblp-Assisted.json': 10,\n",
       " 'imdb.json': 3,\n",
       " 'imdb-Assisted.json': 22}"
      ]
     },
     "execution_count": 25,
     "metadata": {},
     "output_type": "execute_result"
    }
   ],
   "source": [
    "correctly_captured_queries_per_ranking_approach"
   ]
  },
  {
   "cell_type": "markdown",
   "id": "46fb9f4f",
   "metadata": {},
   "source": [
    "# Precision and Recall"
   ]
  },
  {
   "cell_type": "code",
   "execution_count": 26,
   "id": "7b21b9dc",
   "metadata": {},
   "outputs": [
    {
     "name": "stdout",
     "output_type": "stream",
     "text": [
      "Current dataset: nba\n",
      "Current dataset: nba-Assisted\n",
      "Current dataset: yelp_expanded\n",
      "Current dataset: yelp_expanded-Assisted\n",
      "Current dataset: twitter\n",
      "Current dataset: twitter-Assisted\n",
      "Current dataset: dblp\n",
      "Current dataset: dblp-Assisted\n",
      "Current dataset: imdb\n",
      "Current dataset: imdb-Assisted\n"
     ]
    }
   ],
   "source": [
    "average_precision_per_dataset = {}\n",
    "average_recall_per_dataset = {}\n",
    "\n",
    "for dataset, dataset_filepath in onlyfiles:\n",
    "    with open(dataset_filepath) as f:\n",
    "        current_dataset_content = json_load(f)\n",
    "    \n",
    "    current_dataset_name = dataset.split('.')[0]\n",
    "    if current_dataset_name == 'yelp':\n",
    "        continue\n",
    "\n",
    "    average_precision_per_dataset[current_dataset_name] = []\n",
    "    average_recall_per_dataset[current_dataset_name] = []\n",
    "    \n",
    "    print(f'Current dataset: {current_dataset_name}')\n",
    "    \n",
    "    for keyword_query_retrieval_data in current_dataset_content['evaluation']['retrieval_score']:\n",
    "        average_precision_per_dataset[\n",
    "            current_dataset_name\n",
    "        ].append(keyword_query_retrieval_data['precision'])\n",
    "        \n",
    "        average_recall_per_dataset[\n",
    "            current_dataset_name\n",
    "        ].append(keyword_query_retrieval_data['recall'])"
   ]
  },
  {
   "cell_type": "code",
   "execution_count": 27,
   "id": "088c129c",
   "metadata": {},
   "outputs": [
    {
     "name": "stdout",
     "output_type": "stream",
     "text": [
      "Dataset: nba - Average Precision: 1.000\n",
      "Dataset: nba-Assisted - Average Precision: 1.000\n",
      "Dataset: yelp_expanded - Average Precision: 1.000\n",
      "Dataset: yelp_expanded-Assisted - Average Precision: 1.000\n",
      "Dataset: twitter - Average Precision: 0.307\n",
      "Dataset: twitter-Assisted - Average Precision: 1.000\n",
      "Dataset: dblp - Average Precision: 1.000\n",
      "Dataset: dblp-Assisted - Average Precision: 1.000\n",
      "Dataset: imdb - Average Precision: 0.521\n",
      "Dataset: imdb-Assisted - Average Precision: 0.812\n"
     ]
    }
   ],
   "source": [
    "labels = []\n",
    "average_precision_plot_data = []\n",
    "\n",
    "for dataset in average_precision_per_dataset:\n",
    "    if 'compound' in dataset:\n",
    "        continue\n",
    "    labels.append(dataset)\n",
    "    average_precision = sum(average_precision_per_dataset[dataset])/len(average_precision_per_dataset[dataset])\n",
    "    average_precision_plot_data.append(average_precision)\n",
    "    print(f'Dataset: {dataset} - Average Precision: {average_precision:.3f}')"
   ]
  },
  {
   "cell_type": "code",
   "execution_count": 28,
   "id": "a053383f",
   "metadata": {},
   "outputs": [
    {
     "name": "stdout",
     "output_type": "stream",
     "text": [
      "Dataset: nba - Average Recall: 0.901\n",
      "Dataset: nba-Assisted - Average Recall: 1.000\n",
      "Dataset: yelp_expanded - Average Recall: 0.962\n",
      "Dataset: yelp_expanded-Assisted - Average Recall: 0.962\n",
      "Dataset: twitter - Average Recall: 0.207\n",
      "Dataset: twitter-Assisted - Average Recall: 1.000\n",
      "Dataset: dblp - Average Recall: 1.000\n",
      "Dataset: dblp-Assisted - Average Recall: 1.000\n",
      "Dataset: imdb - Average Recall: 0.286\n",
      "Dataset: imdb-Assisted - Average Recall: 0.917\n"
     ]
    }
   ],
   "source": [
    "average_recall_plot_data = []\n",
    "\n",
    "for dataset in average_recall_per_dataset:\n",
    "    if 'compound' in dataset:\n",
    "        continue\n",
    "    average_recall = sum(average_recall_per_dataset[dataset])/len(average_recall_per_dataset[dataset])\n",
    "    average_recall_plot_data.append(average_recall)\n",
    "    print(f'Dataset: {dataset} - Average Recall: {average_recall:.3f}')"
   ]
  },
  {
   "cell_type": "code",
   "execution_count": 29,
   "id": "22628b6a-49bc-4aee-9a99-61d8012009e8",
   "metadata": {},
   "outputs": [
    {
     "data": {
      "text/plain": [
       "{'nba': [1.0, 1.0, 1.0, 1.0, 1.0, 1.0, 1.0, 1.0, 1.0, 1.0],\n",
       " 'nba-Assisted': [1.0, 1.0, 1.0, 1.0, 1.0, 1.0, 1.0, 1.0, 1.0, 1.0],\n",
       " 'yelp_expanded': [1.0,\n",
       "  1.0,\n",
       "  1.0,\n",
       "  1.0,\n",
       "  1.0,\n",
       "  1.0,\n",
       "  1.0,\n",
       "  1.0,\n",
       "  1.0,\n",
       "  1.0,\n",
       "  1.0,\n",
       "  1.0,\n",
       "  1.0,\n",
       "  1.0,\n",
       "  1.0,\n",
       "  1.0,\n",
       "  1.0,\n",
       "  1.0,\n",
       "  1.0,\n",
       "  1.0,\n",
       "  1.0,\n",
       "  1.0,\n",
       "  1.0,\n",
       "  1.0,\n",
       "  1.0],\n",
       " 'yelp_expanded-Assisted': [1.0,\n",
       "  1.0,\n",
       "  1.0,\n",
       "  1.0,\n",
       "  1.0,\n",
       "  1.0,\n",
       "  1.0,\n",
       "  1.0,\n",
       "  1.0,\n",
       "  1.0,\n",
       "  1.0,\n",
       "  1.0,\n",
       "  1.0,\n",
       "  1.0,\n",
       "  1.0,\n",
       "  1.0,\n",
       "  1.0,\n",
       "  1.0,\n",
       "  1.0,\n",
       "  1.0,\n",
       "  1.0,\n",
       "  1.0,\n",
       "  1.0,\n",
       "  1.0,\n",
       "  1.0],\n",
       " 'twitter': [1.0,\n",
       "  0.0,\n",
       "  1.0,\n",
       "  0.0,\n",
       "  0.0,\n",
       "  1.0,\n",
       "  0.02527075812274368,\n",
       "  0.0,\n",
       "  0.0,\n",
       "  0.041666666666666664],\n",
       " 'twitter-Assisted': [1.0, 1.0, 1.0, 1.0, 1.0, 1.0, 1.0, 1.0, 1.0, 1.0],\n",
       " 'dblp': [1.0, 1.0, 1.0, 1.0, 1.0, 1.0, 1.0, 1.0, 1.0, 1.0],\n",
       " 'dblp-Assisted': [1.0, 1.0, 1.0, 1.0, 1.0, 1.0, 1.0, 1.0, 1.0, 1.0],\n",
       " 'imdb': [1.0,\n",
       "  1.0,\n",
       "  0.4,\n",
       "  1.0,\n",
       "  0.45454545454545453,\n",
       "  0.8333333333333334,\n",
       "  0.3333333333333333,\n",
       "  0.75,\n",
       "  0.0,\n",
       "  0.5,\n",
       "  0.3333333333333333,\n",
       "  0.0,\n",
       "  0.21428571428571427,\n",
       "  0.5,\n",
       "  1.0,\n",
       "  0.0,\n",
       "  0.0,\n",
       "  0.125,\n",
       "  1.0,\n",
       "  1.0,\n",
       "  0.8,\n",
       "  0.0,\n",
       "  0.25,\n",
       "  1.0],\n",
       " 'imdb-Assisted': [1.0,\n",
       "  1.0,\n",
       "  1.0,\n",
       "  1.0,\n",
       "  1.0,\n",
       "  1.0,\n",
       "  1.0,\n",
       "  1.0,\n",
       "  0.3333333333333333,\n",
       "  1.0,\n",
       "  0.3333333333333333,\n",
       "  1.0,\n",
       "  1.0,\n",
       "  0.5,\n",
       "  1.0,\n",
       "  0.0,\n",
       "  0.3333333333333333,\n",
       "  1.0,\n",
       "  1.0,\n",
       "  1.0,\n",
       "  1.0,\n",
       "  0.0,\n",
       "  1.0,\n",
       "  1.0]}"
      ]
     },
     "execution_count": 29,
     "metadata": {},
     "output_type": "execute_result"
    }
   ],
   "source": [
    "average_precision_per_dataset"
   ]
  },
  {
   "cell_type": "code",
   "execution_count": 30,
   "id": "b0dc5504-8b8b-497c-a9c3-35fde5abf624",
   "metadata": {},
   "outputs": [
    {
     "data": {
      "text/plain": [
       "{'nba': [1.0, 1.0, 1.0, 1.0, 1.0, 1.0, 1.0, 1.0, 1.0, 0.007972665148063782],\n",
       " 'nba-Assisted': [1.0, 1.0, 1.0, 1.0, 1.0, 1.0, 1.0, 1.0, 1.0, 1.0],\n",
       " 'yelp_expanded': [1.0,\n",
       "  1.0,\n",
       "  1.0,\n",
       "  1.0,\n",
       "  1.0,\n",
       "  1.0,\n",
       "  1.0,\n",
       "  1.0,\n",
       "  1.0,\n",
       "  1.0,\n",
       "  1.0,\n",
       "  1.0,\n",
       "  1.0,\n",
       "  1.0,\n",
       "  1.0,\n",
       "  1.0,\n",
       "  1.0,\n",
       "  1.0,\n",
       "  1.0,\n",
       "  1.0,\n",
       "  0.05970149253731343,\n",
       "  1.0,\n",
       "  1.0,\n",
       "  1.0,\n",
       "  1.0],\n",
       " 'yelp_expanded-Assisted': [1.0,\n",
       "  1.0,\n",
       "  1.0,\n",
       "  1.0,\n",
       "  1.0,\n",
       "  1.0,\n",
       "  1.0,\n",
       "  1.0,\n",
       "  1.0,\n",
       "  1.0,\n",
       "  1.0,\n",
       "  1.0,\n",
       "  1.0,\n",
       "  1.0,\n",
       "  1.0,\n",
       "  1.0,\n",
       "  1.0,\n",
       "  1.0,\n",
       "  1.0,\n",
       "  1.0,\n",
       "  0.05970149253731343,\n",
       "  1.0,\n",
       "  1.0,\n",
       "  1.0,\n",
       "  1.0],\n",
       " 'twitter': [1.0,\n",
       "  0.0,\n",
       "  1.0,\n",
       "  0.0,\n",
       "  0.0,\n",
       "  0.030303030303030304,\n",
       "  0.006930693069306931,\n",
       "  0.0,\n",
       "  0.0,\n",
       "  0.03278688524590164],\n",
       " 'twitter-Assisted': [1.0, 1.0, 1.0, 1.0, 1.0, 1.0, 1.0, 1.0, 1.0, 1.0],\n",
       " 'dblp': [1.0, 1.0, 1.0, 1.0, 1.0, 1.0, 1.0, 1.0, 1.0, 1.0],\n",
       " 'dblp-Assisted': [1.0, 1.0, 1.0, 1.0, 1.0, 1.0, 1.0, 1.0, 1.0, 1.0],\n",
       " 'imdb': [1.0,\n",
       "  0.047619047619047616,\n",
       "  0.2,\n",
       "  0.017241379310344827,\n",
       "  0.14084507042253522,\n",
       "  0.07246376811594203,\n",
       "  0.05,\n",
       "  0.03529411764705882,\n",
       "  0.0,\n",
       "  0.18181818181818182,\n",
       "  1.0,\n",
       "  0.0,\n",
       "  0.6,\n",
       "  1.0,\n",
       "  1.0,\n",
       "  0.0,\n",
       "  0.0,\n",
       "  0.2,\n",
       "  0.07407407407407407,\n",
       "  0.5,\n",
       "  0.4444444444444444,\n",
       "  0.0,\n",
       "  0.1,\n",
       "  0.2],\n",
       " 'imdb-Assisted': [1.0,\n",
       "  1.0,\n",
       "  1.0,\n",
       "  1.0,\n",
       "  1.0,\n",
       "  1.0,\n",
       "  1.0,\n",
       "  1.0,\n",
       "  1.0,\n",
       "  1.0,\n",
       "  1.0,\n",
       "  1.0,\n",
       "  1.0,\n",
       "  1.0,\n",
       "  1.0,\n",
       "  0.0,\n",
       "  1.0,\n",
       "  1.0,\n",
       "  1.0,\n",
       "  1.0,\n",
       "  1.0,\n",
       "  0.0,\n",
       "  1.0,\n",
       "  1.0]}"
      ]
     },
     "execution_count": 30,
     "metadata": {},
     "output_type": "execute_result"
    }
   ],
   "source": [
    "average_recall_per_dataset"
   ]
  },
  {
   "cell_type": "code",
   "execution_count": 31,
   "id": "7cfd9262-7f00-456c-a8ae-f553c2846e6a",
   "metadata": {},
   "outputs": [
    {
     "name": "stdout",
     "output_type": "stream",
     "text": [
      "Valid dataset: nba\n",
      "Prec: 1.0 | Rec: 0.9007972665148063\n",
      "Valid dataset: yelp_expanded\n",
      "Prec: 1.0 | Rec: 0.9623880597014925\n",
      "Valid dataset: twitter\n",
      "Prec: 0.306693742478941 | Rec: 0.20700206086182388\n",
      "Valid dataset: dblp\n",
      "Prec: 1.0 | Rec: 1.0\n",
      "Valid dataset: imdb\n",
      "Prec: 0.5205762987012986 | Rec: 0.2859916701438179\n",
      "[Default] Average Precision: 0.7654540082360479\n",
      "[Default] Average Recall: 0.6712358114443882\n"
     ]
    }
   ],
   "source": [
    "# Precision and Recall for datasets without compound keywords\n",
    "precision = 0.0\n",
    "recall = 0.0\n",
    "\n",
    "datasets_precision = []\n",
    "datasets_recall = []\n",
    "\n",
    "for dataset in average_precision_per_dataset:\n",
    "    if dataset.endswith('-Assisted'):\n",
    "        continue\n",
    "    print('Valid dataset: {}'.format(dataset))\n",
    "    print('Prec: {} | Rec: {}'.format(sum(average_precision_per_dataset[dataset])/len(average_precision_per_dataset[dataset]), sum(average_recall_per_dataset[dataset])/len(average_recall_per_dataset[dataset])))\n",
    "    datasets_precision.append(sum(average_precision_per_dataset[dataset])/len(average_precision_per_dataset[dataset]))\n",
    "    datasets_recall.append(sum(average_recall_per_dataset[dataset])/len(average_recall_per_dataset[dataset]))\n",
    "\n",
    "print('[Default] Average Precision: {}'.format(sum(datasets_precision)/len(datasets_precision)))\n",
    "print('[Default] Average Recall: {}'.format(sum(datasets_recall)/len(datasets_recall)))"
   ]
  },
  {
   "cell_type": "code",
   "execution_count": 32,
   "id": "cacbf575-d82b-4743-913f-633c1016a353",
   "metadata": {},
   "outputs": [
    {
     "name": "stdout",
     "output_type": "stream",
     "text": [
      "Valid dataset: nba-Assisted\n",
      "Prec: 1.0 | Rec: 1.0\n",
      "Valid dataset: yelp_expanded-Assisted\n",
      "Prec: 1.0 | Rec: 0.9623880597014925\n",
      "Valid dataset: twitter-Assisted\n",
      "Prec: 1.0 | Rec: 1.0\n",
      "Valid dataset: dblp-Assisted\n",
      "Prec: 1.0 | Rec: 1.0\n",
      "Valid dataset: imdb-Assisted\n",
      "Prec: 0.8125 | Rec: 0.9166666666666666\n",
      "[Assisted] Average Precision: 0.9625\n",
      "[Assisted] Average Recall: 0.9758109452736319\n"
     ]
    }
   ],
   "source": [
    "# Precision and Recall for datasets without compound keywords\n",
    "precision = 0.0\n",
    "recall = 0.0\n",
    "\n",
    "datasets_precision = []\n",
    "datasets_recall = []\n",
    "\n",
    "for dataset in average_precision_per_dataset:\n",
    "    if not dataset.endswith('-Assisted'):\n",
    "        continue\n",
    "    print('Valid dataset: {}'.format(dataset))\n",
    "    print('Prec: {} | Rec: {}'.format(sum(average_precision_per_dataset[dataset])/len(average_precision_per_dataset[dataset]), sum(average_recall_per_dataset[dataset])/len(average_recall_per_dataset[dataset])))\n",
    "    datasets_precision.append(sum(average_precision_per_dataset[dataset])/len(average_precision_per_dataset[dataset]))\n",
    "    datasets_recall.append(sum(average_recall_per_dataset[dataset])/len(average_recall_per_dataset[dataset]))\n",
    "\n",
    "print('[Assisted] Average Precision: {}'.format(sum(datasets_precision)/len(datasets_precision)))\n",
    "print('[Assisted] Average Recall: {}'.format(sum(datasets_recall)/len(datasets_recall)))"
   ]
  },
  {
   "cell_type": "code",
   "execution_count": 33,
   "id": "71e79c51-83bc-497a-9def-3c17396adbec",
   "metadata": {},
   "outputs": [],
   "source": [
    "# Precision and Recall for datasets without compound keywords\n",
    "# precision = 0.0\n",
    "# recall = 0.0\n",
    "\n",
    "# datasets_precision = []\n",
    "# datasets_recall = []\n",
    "\n",
    "# for dataset in average_precision_per_dataset:\n",
    "#     if dataset in ['imdb', 'nba']:\n",
    "#         continue\n",
    "#     print('Valid dataset: {}'.format(dataset))\n",
    "#     datasets_precision.append(sum(average_precision_per_dataset[dataset])/len(average_precision_per_dataset[dataset]))\n",
    "#     datasets_recall.append(sum(average_recall_per_dataset[dataset])/len(average_recall_per_dataset[dataset]))\n",
    "\n",
    "# print('Average Precision without compound: {}'.format(sum(datasets_precision)/len(datasets_precision)))\n",
    "# print('Average Recall without compound: {}'.format(sum(datasets_recall)/len(datasets_recall)))"
   ]
  },
  {
   "cell_type": "code",
   "execution_count": 34,
   "id": "32fe8485-21e9-4aff-8e54-c52d86ff7e43",
   "metadata": {},
   "outputs": [],
   "source": [
    "# datasets_precision"
   ]
  },
  {
   "cell_type": "code",
   "execution_count": 35,
   "id": "3ebd66c5-228a-4544-bf8b-a606ec776b44",
   "metadata": {},
   "outputs": [],
   "source": [
    "# datasets_recall"
   ]
  },
  {
   "cell_type": "code",
   "execution_count": 36,
   "id": "bdf9cfa6-8fdb-4c36-b294-e2ad1db0e484",
   "metadata": {},
   "outputs": [],
   "source": [
    "# average_precision_plot_data"
   ]
  },
  {
   "cell_type": "code",
   "execution_count": 37,
   "id": "059a4c4b-8449-4538-a6c8-a667a042231f",
   "metadata": {},
   "outputs": [],
   "source": [
    "# average_recall_plot_data"
   ]
  },
  {
   "cell_type": "code",
   "execution_count": 38,
   "id": "6382d4e7",
   "metadata": {},
   "outputs": [
    {
     "name": "stdout",
     "output_type": "stream",
     "text": [
      "['NBA-DR', 'NBA-AR', 'YELP-DR', 'YELP-AR', 'TWITTER-DR', 'TWITTER-AR', 'DBLP-DR', 'DBLP-AR', 'IMDB-DR', 'IMDB-AR']\n"
     ]
    },
    {
     "data": {
      "image/png": "[encoded data removed]",
      "text/plain": [
       "<Figure size 1000x400 with 1 Axes>"
      ]
     },
     "metadata": {},
     "output_type": "display_data"
    }
   ],
   "source": [
    "fig, ax = plt.subplots()\n",
    "x = np.arange(0, len(labels) * 2, 2)\n",
    "width = 0.35\n",
    "\n",
    "new_labels = []\n",
    "for label in labels:\n",
    "    if '-Assisted' not in label:\n",
    "        new_labels.append(label + '-dr')\n",
    "        continue\n",
    "    new_labels.append(label)\n",
    "labels = new_labels\n",
    "\n",
    "labels_upper = [label.upper().replace('_EXPANDED', '').replace('-ASSISTED', '-AR').replace('-dr', '-DR') for label in labels]\n",
    "# labels_upper = [item.replace('_EXPANDED', '').replace('_COMPOUND', '-CP') for item in labels_upper]\n",
    "print(labels_upper)\n",
    "\n",
    "precision = ax.bar(x - width, average_precision_plot_data, width, label='Precision')\n",
    "recall = ax.bar(x, average_recall_plot_data, width, label='Recall')\n",
    "\n",
    "ax.set_xticks(x, labels_upper, rotation=45, fontsize=14)\n",
    "ax.set_yticks([0, 0.2, 0.4, 0.6, 0.8, 1.0], [0, 0.2, 0.4, 0.6, 0.8, 1.0], fontsize=14)\n",
    "ax.set_ylim([0, 1])\n",
    "fig.set_size_inches(10, 4)\n",
    "\n",
    "ax.legend(\n",
    "    bbox_to_anchor=(1, 1.03),\n",
    "    fontsize=12,\n",
    ")\n",
    "\n",
    "fig.tight_layout()\n",
    "plt.savefig('images/quality_results.pdf')\n",
    "plt.show()"
   ]
  },
  {
   "cell_type": "markdown",
   "id": "a594169d",
   "metadata": {},
   "source": [
    "# KMs, QMs and CJNs statistics"
   ]
  },
  {
   "cell_type": "code",
   "execution_count": 32,
   "id": "413cd029",
   "metadata": {},
   "outputs": [
    {
     "name": "stdout",
     "output_type": "stream",
     "text": [
      "Current dataset: nba.json\n",
      "Average SKM Count: 0.5 | Max SKM Count: 2\n",
      "Average VKM Count: 2.6 | Max VKM Count: 5\n",
      "Average QM Count: 2.0 | Max QM Count: 5\n",
      "Average CN Count: 1.2 | Max CN Count: 3\n",
      "\n",
      "Current dataset: nba\n",
      "Average SKM Count: 0.5 | Max SKM Count: 2\n",
      "Average VKM Count: 2.6 | Max VKM Count: 5\n",
      "Average QM Count: 2.0 | Max QM Count: 5\n",
      "Average CN Count: 1.2 | Max CN Count: 3\n",
      "\n",
      "Current dataset: yelp_expanded.json\n",
      "Average SKM Count: 0.9642857142857143 | Max SKM Count: 3\n",
      "Average VKM Count: 15.357142857142858 | Max VKM Count: 37\n",
      "Average QM Count: 72.14285714285714 | Max QM Count: 497\n",
      "Average CN Count: 49.785714285714285 | Max CN Count: 318\n",
      "\n",
      "Current dataset: yelp_expanded\n",
      "Average SKM Count: 0.9642857142857143 | Max SKM Count: 3\n",
      "Average VKM Count: 15.357142857142858 | Max VKM Count: 37\n",
      "Average QM Count: 72.14285714285714 | Max QM Count: 497\n",
      "Average CN Count: 49.785714285714285 | Max CN Count: 318\n",
      "\n",
      "Current dataset: twitter.json\n",
      "Average SKM Count: 0.18181818181818182 | Max SKM Count: 2\n",
      "Average VKM Count: 10.818181818181818 | Max VKM Count: 31\n",
      "Average QM Count: 16.636363636363637 | Max QM Count: 99\n",
      "Average CN Count: 10.272727272727273 | Max CN Count: 29\n",
      "\n",
      "Current dataset: twitter\n",
      "Average SKM Count: 0.18181818181818182 | Max SKM Count: 2\n",
      "Average VKM Count: 10.818181818181818 | Max VKM Count: 31\n",
      "Average QM Count: 16.636363636363637 | Max QM Count: 99\n",
      "Average CN Count: 10.272727272727273 | Max CN Count: 29\n",
      "\n",
      "Current dataset: dblp.json\n",
      "Average SKM Count: 0.0 | Max SKM Count: 0\n",
      "Average VKM Count: 7.9 | Max VKM Count: 20\n",
      "Average QM Count: 22.7 | Max QM Count: 140\n",
      "Average CN Count: 1.2 | Max CN Count: 3\n",
      "\n",
      "Current dataset: dblp\n",
      "Average SKM Count: 0.0 | Max SKM Count: 0\n",
      "Average VKM Count: 7.9 | Max VKM Count: 20\n",
      "Average QM Count: 22.7 | Max QM Count: 140\n",
      "Average CN Count: 1.2 | Max CN Count: 3\n",
      "\n",
      "Current dataset: imdb.json\n",
      "Average SKM Count: 0.5384615384615384 | Max SKM Count: 4\n",
      "Average VKM Count: 11.26923076923077 | Max VKM Count: 27\n",
      "Average QM Count: 33.03846153846154 | Max QM Count: 125\n",
      "Average CN Count: 33.03846153846154 | Max CN Count: 125\n",
      "\n",
      "Current dataset: imdb\n",
      "Average SKM Count: 0.5384615384615384 | Max SKM Count: 4\n",
      "Average VKM Count: 11.26923076923077 | Max VKM Count: 27\n",
      "Average QM Count: 33.03846153846154 | Max QM Count: 125\n",
      "Average CN Count: 19.03846153846154 | Max CN Count: 35\n",
      "\n"
     ]
    }
   ],
   "source": [
    "for dataset, dataset_filepath in onlyfiles:\n",
    "    with open(dataset_filepath) as f:\n",
    "        current_dataset_content = json_load(f)\n",
    "    \n",
    "    current_dataset_name = dataset.split('-')[0]\n",
    "    if current_dataset_name == 'yelp':\n",
    "        continue\n",
    "        \n",
    "    if 'compound' in dataset:\n",
    "        continue\n",
    "    \n",
    "    print(f'Current dataset: {current_dataset_name}')\n",
    "    \n",
    "    schema_keyword_match_count = current_dataset_content['evaluation']['num_schema_keyword_matches']\n",
    "    value_keyword_match_count = current_dataset_content['evaluation']['num_value_keyword_matches']\n",
    "    query_match_count = current_dataset_content['evaluation']['num_query_matches']\n",
    "    candidate_network_count = current_dataset_content['evaluation']['num_candidate_networks']\n",
    "\n",
    "    average_skm_count = sum(schema_keyword_match_count)/len(schema_keyword_match_count)\n",
    "    average_vkm_count = sum(value_keyword_match_count)/len(value_keyword_match_count)\n",
    "    average_qm_count = sum(query_match_count)/len(query_match_count)\n",
    "    average_cn_count = sum(candidate_network_count)/len(candidate_network_count)\n",
    "    \n",
    "    max_skm_count = max(schema_keyword_match_count)\n",
    "    max_vkm_count = max(value_keyword_match_count)\n",
    "    max_qm_count = max(query_match_count)\n",
    "    max_cn_count = max(candidate_network_count)\n",
    "    \n",
    "    print('Average SKM Count: {} | Max SKM Count: {}'.format(\n",
    "        average_skm_count,\n",
    "        max_skm_count,\n",
    "    ))\n",
    "    \n",
    "    print('Average VKM Count: {} | Max VKM Count: {}'.format(\n",
    "        average_vkm_count,\n",
    "        max_vkm_count,\n",
    "    ))\n",
    "    \n",
    "    print('Average QM Count: {} | Max QM Count: {}'.format(\n",
    "        average_qm_count,\n",
    "        max_qm_count,\n",
    "    ))\n",
    "    \n",
    "    print('Average CN Count: {} | Max CN Count: {}'.format(\n",
    "        average_cn_count,\n",
    "        max_cn_count,\n",
    "    ))\n",
    "    \n",
    "    print()"
   ]
  },
  {
   "cell_type": "markdown",
   "id": "a8857969-bdfd-40d5-934c-cdc4451f30cd",
   "metadata": {},
   "source": [
    "# Query Generation and Execution times"
   ]
  },
  {
   "cell_type": "code",
   "execution_count": 55,
   "id": "644161f0-d316-4d24-8d6f-382ac810cdf5",
   "metadata": {},
   "outputs": [
    {
     "name": "stdout",
     "output_type": "stream",
     "text": [
      "Analysing dataset nba.json\n",
      "Avg. Generation Time: 0.17723639975883998\n",
      "Avg. Execution Time: 450.74150519976683\n",
      "Max. Generation Time: 0.2753829976427369\n",
      "Max. Execution Time: 1009.0536549978424\n",
      "\n",
      "Analysing dataset yelp_expanded.json\n",
      "Avg. Generation Time: 0.23243142836041183\n",
      "Avg. Execution Time: 616.9352365710178\n",
      "Max. Generation Time: 1.3119349969201721\n",
      "Max. Execution Time: 9014.320542999485\n",
      "\n",
      "Analysing dataset twitter.json\n",
      "Avg. Generation Time: 0.24394018228948963\n",
      "Avg. Execution Time: 4016.003471362968\n",
      "Max. Generation Time: 0.3433439997024834\n",
      "Max. Execution Time: 6024.269886002003\n",
      "\n",
      "Analysing dataset dblp.json\n",
      "Avg. Generation Time: 0.23526230070274323\n",
      "Avg. Execution Time: 2521.4060991973383\n",
      "Max. Generation Time: 0.3313839988550171\n",
      "Max. Execution Time: 3669.597252999665\n",
      "\n",
      "Analysing dataset imdb.json\n",
      "Avg. Generation Time: 0.18207592340611603\n",
      "Avg. Execution Time: 217.57098411538976\n",
      "Max. Generation Time: 0.3858440013573272\n",
      "Max. Execution Time: 483.16922599951795\n",
      "\n"
     ]
    }
   ],
   "source": [
    "for dataset, filepath in onlyfiles:\n",
    "    if dataset.endswith('-Assisted.json') or dataset.endswith('-query.json'):\n",
    "        continue\n",
    "    print('Analysing dataset {}'.format(dataset))\n",
    "    with open(filepath) as f:\n",
    "        content = json_load(f)\n",
    "    results = content['results']\n",
    "    \n",
    "    query_generation_times = []\n",
    "    query_execution_times = []\n",
    "    \n",
    "    for query_data in results:\n",
    "        # print('Keyword Query: {}'.format(query_data['keyword_query']))\n",
    "        query_generation_time = query_data['query_generation_time']\n",
    "        query_execution_time = query_data['query_execution_time']\n",
    "        \n",
    "        query_generation_times.append(\n",
    "            query_generation_time,\n",
    "        )\n",
    "        query_execution_times.append(\n",
    "            query_execution_time,\n",
    "        )\n",
    "    \n",
    "    average_generation_time = sum(query_generation_times)/len(query_generation_times)\n",
    "\n",
    "    average_execution_time = sum(query_execution_times)/len(query_execution_times)\n",
    "    \n",
    "    print('Avg. Generation Time: {}'.format(average_generation_time * 1000))\n",
    "    print('Avg. Execution Time: {}'.format(average_execution_time * 1000))\n",
    "    print('Max. Generation Time: {}'.format(max(query_generation_times) * 1000))\n",
    "    print('Max. Execution Time: {}'.format(max(query_execution_times) * 1000))\n",
    "    print()"
   ]
  }
 ],
 "metadata": {
  "kernelspec": {
   "display_name": "Python 3 (ipykernel)",
   "language": "python",
   "name": "python3"
  },
  "language_info": {
   "codemirror_mode": {
    "name": "ipython",
    "version": 3
   },
   "file_extension": ".py",
   "mimetype": "text/x-python",
   "name": "python",
   "nbconvert_exporter": "python",
   "pygments_lexer": "ipython3",
   "version": "3.11.5"
  }
 },
 "nbformat": 4,
 "nbformat_minor": 5
}
